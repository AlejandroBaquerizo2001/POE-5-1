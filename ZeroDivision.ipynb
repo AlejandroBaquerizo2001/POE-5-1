{
  "nbformat": 4,
  "nbformat_minor": 0,
  "metadata": {
    "colab": {
      "name": "ZeroDivision.ipynb",
      "provenance": [],
      "authorship_tag": "ABX9TyNI7Jr/rII5KeZi8dQMzzYM",
      "include_colab_link": true
    },
    "kernelspec": {
      "name": "python3",
      "display_name": "Python 3"
    },
    "language_info": {
      "name": "python"
    }
  },
  "cells": [
    {
      "cell_type": "markdown",
      "metadata": {
        "id": "view-in-github",
        "colab_type": "text"
      },
      "source": [
        "<a href=\"https://colab.research.google.com/github/AlejandroBaquerizo2001/POE-5-1/blob/main/ZeroDivision.ipynb\" target=\"_parent\"><img src=\"https://colab.research.google.com/assets/colab-badge.svg\" alt=\"Open In Colab\"/></a>"
      ]
    },
    {
      "cell_type": "code",
      "execution_count": null,
      "metadata": {
        "id": "isqobqCGXAnB"
      },
      "outputs": [],
      "source": [
        "def dividir(num,div):\n",
        "  return num/div"
      ]
    },
    {
      "cell_type": "code",
      "source": [
        "dividir(2,0)"
      ],
      "metadata": {
        "id": "xC5oEBX_XEfW"
      },
      "execution_count": null,
      "outputs": []
    },
    {
      "cell_type": "markdown",
      "source": [
        "Ejercicio\n",
        "\n",
        "manejar ZeroDivisionError en Python\n"
      ],
      "metadata": {
        "id": "BV-okrz8XOOy"
      }
    },
    {
      "cell_type": "markdown",
      "source": [
        "Podemos tratar esta división entre cero como una excepción, haciendo lo siguiente:\n",
        "\n",
        "Desde el bloque try llama a la función dividir().\n",
        "En el bloque except tendremos una excepción en caso de que div sea igual a cero.\n",
        "En este ejemplo se hace una excepción a ZeroDivisionError (el tipo de error) el cual se especifica en except\n",
        "Cuando se detecte el error ZeroDivisionError se ejecutara el bloque except donde pondremos un mensaje informando que se trató de dividir entre cero.\n",
        "Código en Python\n"
      ],
      "metadata": {
        "id": "ZN9t-Ct3XSJj"
      }
    },
    {
      "cell_type": "code",
      "source": [
        "try:\n",
        "  #Funcion\n",
        "  #Imprimir resultado\n",
        "  print(res)\n",
        " except ZeroDivisionError:\n",
        "   #Imprimir mensaje "
      ],
      "metadata": {
        "id": "5N9H-XfaXfb6"
      },
      "execution_count": null,
      "outputs": []
    }
  ]
}