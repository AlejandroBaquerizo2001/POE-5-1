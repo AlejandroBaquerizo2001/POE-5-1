{
  "nbformat": 4,
  "nbformat_minor": 0,
  "metadata": {
    "colab": {
      "name": "Programación segura pruebas de software.ipynb",
      "provenance": [],
      "authorship_tag": "ABX9TyNX3ehDYZBqfRiFoL5wblKT",
      "include_colab_link": true
    },
    "kernelspec": {
      "name": "python3",
      "display_name": "Python 3"
    },
    "language_info": {
      "name": "python"
    }
  },
  "cells": [
    {
      "cell_type": "markdown",
      "metadata": {
        "id": "view-in-github",
        "colab_type": "text"
      },
      "source": [
        "<a href=\"https://colab.research.google.com/github/AlejandroBaquerizo2001/POE-5-1/blob/main/Programaci%C3%B3n_segura_pruebas_de_software.ipynb\" target=\"_parent\"><img src=\"https://colab.research.google.com/assets/colab-badge.svg\" alt=\"Open In Colab\"/></a>"
      ]
    },
    {
      "cell_type": "code",
      "execution_count": null,
      "metadata": {
        "id": "-XYFlVfXZ_63"
      },
      "outputs": [],
      "source": [
        "import unittest"
      ]
    },
    {
      "cell_type": "code",
      "source": [
        "# Calculadora\n",
        "class Calculator:\n",
        "  def _init_(self):\n",
        "    pass\n",
        "\n",
        "   def add(self, a, b):\n",
        "     return a + b\n",
        "\n",
        "   def sub(self, a, b):\n",
        "     return a - b\n",
        "\n",
        "   def mul(self, a, b):\n",
        "        return a * b\n",
        "\n",
        "   def div(self, a, b):\n",
        "        if b != 0:\n",
        "            return a // b  "
      ],
      "metadata": {
        "id": "-K3iyJN-aPKL"
      },
      "execution_count": null,
      "outputs": []
    },
    {
      "cell_type": "code",
      "source": [
        "##Creacion prueba de unidad \n",
        "class TestCalculator(unittest.TestCase):\n",
        "  \n",
        "    def test_add(self):\n",
        "        '''Test case function for addition'''\n",
        "        self.calc = Calculator()\n",
        "        result = self.calc.add(4, 7)\n",
        "        expected = 11\n",
        "        self.assertEqual(result, expected)\n",
        "\n",
        "    def test_sub(self):\n",
        "        '''Test case function for subtraction'''\n",
        "        self.calc = Calculator()\n",
        "        result = self.calc.sub(10, 5)\n",
        "        expected = 5\n",
        "        self.assertEqual(result, expected)\n",
        "\n",
        "   \n",
        "    def test_mul(self):\n",
        "        '''Test case function for multiplication'''\n",
        "        self.calc = Calculator()\n",
        "        result = self.calc.mul(3, 7)\n",
        "        expected = 21\n",
        "        self.assertEqual(result, expected)\n",
        "\n",
        "    def test_divent(self):\n",
        "        '''Test case function for division'''\n",
        "        self.calc = Calculator()\n",
        "        result = self.calc.div(7, 2)\n",
        "        expected = 3\n",
        "        self.assertEqual(result, expected)"
      ],
      "metadata": {
        "id": "_XQtQ8_2o-V1"
      },
      "execution_count": null,
      "outputs": []
    },
    {
      "cell_type": "code",
      "source": [
        "unittest.main(argv=[''], verbosity=2, exit=False)"
      ],
      "metadata": {
        "id": "-8y_8Fp4pCeJ"
      },
      "execution_count": null,
      "outputs": []
    }
  ]
}